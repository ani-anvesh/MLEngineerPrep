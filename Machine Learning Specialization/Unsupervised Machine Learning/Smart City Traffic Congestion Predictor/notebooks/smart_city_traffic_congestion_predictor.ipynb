{
 "cells": [
  {
   "cell_type": "code",
   "execution_count": 1,
   "id": "33918108",
   "metadata": {},
   "outputs": [],
   "source": [
    "%load_ext autoreload\n",
    "%autoreload 2"
   ]
  },
  {
   "cell_type": "code",
   "execution_count": 2,
   "id": "5fdff2b3",
   "metadata": {},
   "outputs": [],
   "source": [
    "import os\n",
    "import sys\n",
    "import numpy as np\n",
    "import joblib\n",
    "import shutil"
   ]
  },
  {
   "cell_type": "code",
   "execution_count": 3,
   "id": "ccf3eb1e",
   "metadata": {},
   "outputs": [],
   "source": [
    "os.chdir(\"..\")\n",
    "sys.path.append(\"data\")\n",
    "sys.path.append(\"src\")\n",
    "# sys.path.append(\"scripts\")\n",
    "os.environ[\"TF_CPP_MIN_LOG_LEVEL\"] = \"2\""
   ]
  },
  {
   "cell_type": "code",
   "execution_count": 4,
   "id": "74c4a3e5",
   "metadata": {},
   "outputs": [],
   "source": [
    "!mkdir -p data/METR-LA"
   ]
  },
  {
   "cell_type": "code",
   "execution_count": 5,
   "id": "442fcfae",
   "metadata": {},
   "outputs": [
    {
     "name": "stdout",
     "output_type": "stream",
     "text": [
      "Generating training data\n",
      "x shape:  (34249, 12, 207, 2) , y shape:  (34249, 12, 207, 2)\n",
      "train x:  (23974, 12, 207, 2) y: (23974, 12, 207, 2)\n",
      "val x:  (3425, 12, 207, 2) y: (3425, 12, 207, 2)\n",
      "test x:  (6850, 12, 207, 2) y: (6850, 12, 207, 2)\n"
     ]
    }
   ],
   "source": [
    "!python -m scripts.generate_training_data --output_dir=data/METR-LA --traffic_df_filename=data/metr-la.h5"
   ]
  },
  {
   "cell_type": "code",
   "execution_count": 6,
   "id": "77103aaa",
   "metadata": {},
   "outputs": [],
   "source": [
    "# !python -m scripts.generate_training_data --output_dir=data/PEMS-BAY --traffic_df_filename=data/pems-bay.h5"
   ]
  },
  {
   "cell_type": "code",
   "execution_count": 7,
   "id": "ccde5481",
   "metadata": {},
   "outputs": [],
   "source": [
    "from data_pipeline import load_metr_la_data, convert_speed_to_congestion_label\n",
    "from evaluation import plot_loss_accuracy"
   ]
  },
  {
   "cell_type": "code",
   "execution_count": 8,
   "id": "f52a2dcb",
   "metadata": {},
   "outputs": [],
   "source": [
    "from sklearn.model_selection import train_test_split\n",
    "from tensorflow.keras.models import Sequential\n",
    "from tensorflow.keras.layers import Dense, Flatten, Dropout\n",
    "from tensorflow.keras.utils import to_categorical\n",
    "from sklearn.metrics import classification_report"
   ]
  },
  {
   "cell_type": "code",
   "execution_count": 9,
   "id": "f049ac20",
   "metadata": {},
   "outputs": [],
   "source": [
    "# Load preprocessed METR-LA data\n",
    "x_train, y_train_speed = load_metr_la_data(\"train\")\n",
    "x_val, y_val_speed = load_metr_la_data(\"val\")\n",
    "\n",
    "# Convert speed targets to congestion labels (0=high, 1=medium, 2=low)\n",
    "y_train_labels = convert_speed_to_congestion_label(y_train_speed)\n",
    "y_val_labels = convert_speed_to_congestion_label(y_val_speed)\n",
    "\n",
    "# Normalize input data (optional but recommended)\n",
    "x_train = x_train / 100.0\n",
    "x_val = x_val / 100.0"
   ]
  },
  {
   "cell_type": "code",
   "execution_count": 10,
   "id": "35198d3a",
   "metadata": {},
   "outputs": [
    {
     "name": "stdout",
     "output_type": "stream",
     "text": [
      "(23974, 12, 207, 2) (23974,)\n"
     ]
    }
   ],
   "source": [
    "print(y_train_speed.shape, y_train_labels.shape)"
   ]
  },
  {
   "cell_type": "code",
   "execution_count": 11,
   "id": "b9523059",
   "metadata": {},
   "outputs": [],
   "source": [
    "# Build classifier\n",
    "model = Sequential([\n",
    "    Flatten(input_shape=x_train.shape[1:]),  # (12, 207)\n",
    "    Dense(256, activation='relu'),\n",
    "    Dropout(0.3),\n",
    "    Dense(64, activation='relu'),\n",
    "    Dense(3, activation='softmax')  # low, medium, high\n",
    "])"
   ]
  },
  {
   "cell_type": "code",
   "execution_count": 12,
   "id": "d0704505",
   "metadata": {},
   "outputs": [],
   "source": [
    "model.compile(optimizer='adam', loss='sparse_categorical_crossentropy', metrics=['accuracy'])"
   ]
  },
  {
   "cell_type": "code",
   "execution_count": 13,
   "id": "f93ceb14",
   "metadata": {},
   "outputs": [
    {
     "name": "stdout",
     "output_type": "stream",
     "text": [
      "Epoch 1/10\n",
      "375/375 [==============================] - 1s 4ms/step - loss: 0.4673 - accuracy: 0.7785 - val_loss: 0.3771 - val_accuracy: 0.8450\n",
      "Epoch 2/10\n",
      "375/375 [==============================] - 1s 3ms/step - loss: 0.3493 - accuracy: 0.8435 - val_loss: 0.2992 - val_accuracy: 0.8861\n",
      "Epoch 3/10\n",
      "375/375 [==============================] - 1s 3ms/step - loss: 0.3623 - accuracy: 0.8341 - val_loss: 0.3288 - val_accuracy: 0.8774\n",
      "Epoch 4/10\n",
      "375/375 [==============================] - 1s 3ms/step - loss: 0.3406 - accuracy: 0.8439 - val_loss: 0.3338 - val_accuracy: 0.9004\n",
      "Epoch 5/10\n",
      "375/375 [==============================] - 1s 4ms/step - loss: 0.3391 - accuracy: 0.8564 - val_loss: 0.3585 - val_accuracy: 0.8768\n",
      "Epoch 6/10\n",
      "375/375 [==============================] - 1s 3ms/step - loss: 0.3073 - accuracy: 0.8745 - val_loss: 0.3304 - val_accuracy: 0.8818\n",
      "Epoch 7/10\n",
      "375/375 [==============================] - 1s 3ms/step - loss: 0.2906 - accuracy: 0.8812 - val_loss: 0.3270 - val_accuracy: 0.8599\n",
      "Epoch 8/10\n",
      "375/375 [==============================] - 1s 3ms/step - loss: 0.2835 - accuracy: 0.8883 - val_loss: 0.3188 - val_accuracy: 0.8712\n",
      "Epoch 9/10\n",
      "375/375 [==============================] - 1s 3ms/step - loss: 0.2712 - accuracy: 0.8916 - val_loss: 0.3218 - val_accuracy: 0.8657\n",
      "Epoch 10/10\n",
      "375/375 [==============================] - 1s 3ms/step - loss: 0.2661 - accuracy: 0.8944 - val_loss: 0.3936 - val_accuracy: 0.8064\n"
     ]
    },
    {
     "data": {
      "text/plain": [
       "<keras.src.callbacks.History at 0x326068c90>"
      ]
     },
     "execution_count": 13,
     "metadata": {},
     "output_type": "execute_result"
    }
   ],
   "source": [
    "model.fit(x_train, y_train_labels, validation_data=(x_val, y_val_labels), epochs=10, batch_size=64)"
   ]
  },
  {
   "cell_type": "code",
   "execution_count": 14,
   "id": "2852a3df",
   "metadata": {},
   "outputs": [
    {
     "name": "stderr",
     "output_type": "stream",
     "text": [
      "/Users/anveshradharapu/Library/Caches/pypoetry/virtualenvs/mlengineerprep-fSSVlCLJ-py3.11/lib/python3.11/site-packages/keras/src/engine/training.py:3079: UserWarning: You are saving your model as an HDF5 file via `model.save()`. This file format is considered legacy. We recommend using instead the native Keras format, e.g. `model.save('my_model.keras')`.\n",
      "  saving_api.save_model(\n"
     ]
    }
   ],
   "source": [
    "model.save(\"models/traffic_congestion_classifier.h5\")\n"
   ]
  },
  {
   "cell_type": "code",
   "execution_count": 15,
   "id": "e0c034f9",
   "metadata": {},
   "outputs": [
    {
     "data": {
      "image/png": "[encoded data removed]",
      "text/plain": [
       "<Figure size 1000x400 with 2 Axes>"
      ]
     },
     "metadata": {},
     "output_type": "display_data"
    }
   ],
   "source": [
    "plot_loss_accuracy(model.history)"
   ]
  },
  {
   "cell_type": "code",
   "execution_count": 16,
   "id": "40038047",
   "metadata": {},
   "outputs": [
    {
     "name": "stdout",
     "output_type": "stream",
     "text": [
      "108/108 [==============================] - 0s 707us/step\n"
     ]
    }
   ],
   "source": [
    "# Predict probabilities\n",
    "y_val_pred_probs = model.predict(x_val)\n",
    "\n",
    "# Convert softmax outputs to class labels (0, 1, 2)\n",
    "y_val_preds = np.argmax(y_val_pred_probs, axis=1)\n"
   ]
  },
  {
   "cell_type": "code",
   "execution_count": 17,
   "id": "48737cc2",
   "metadata": {},
   "outputs": [
    {
     "name": "stdout",
     "output_type": "stream",
     "text": [
      "(3425,)\n",
      "              precision    recall  f1-score   support\n",
      "\n",
      "        High       0.74      0.94      0.83      1695\n",
      "      Medium       0.92      0.67      0.78      1730\n",
      "         Low       0.00      0.00      0.00         0\n",
      "\n",
      "    accuracy                           0.81      3425\n",
      "   macro avg       0.55      0.54      0.54      3425\n",
      "weighted avg       0.83      0.81      0.80      3425\n",
      "\n"
     ]
    },
    {
     "name": "stderr",
     "output_type": "stream",
     "text": [
      "/Users/anveshradharapu/Library/Caches/pypoetry/virtualenvs/mlengineerprep-fSSVlCLJ-py3.11/lib/python3.11/site-packages/sklearn/metrics/_classification.py:1706: UndefinedMetricWarning: Precision is ill-defined and being set to 0.0 in labels with no predicted samples. Use `zero_division` parameter to control this behavior.\n",
      "  _warn_prf(average, modifier, f\"{metric.capitalize()} is\", result.shape[0])\n",
      "/Users/anveshradharapu/Library/Caches/pypoetry/virtualenvs/mlengineerprep-fSSVlCLJ-py3.11/lib/python3.11/site-packages/sklearn/metrics/_classification.py:1706: UndefinedMetricWarning: Recall is ill-defined and being set to 0.0 in labels with no true samples. Use `zero_division` parameter to control this behavior.\n",
      "  _warn_prf(average, modifier, f\"{metric.capitalize()} is\", result.shape[0])\n",
      "/Users/anveshradharapu/Library/Caches/pypoetry/virtualenvs/mlengineerprep-fSSVlCLJ-py3.11/lib/python3.11/site-packages/sklearn/metrics/_classification.py:1706: UndefinedMetricWarning: F-score is ill-defined and being set to 0.0 in labels with no true nor predicted samples. Use `zero_division` parameter to control this behavior.\n",
      "  _warn_prf(average, modifier, f\"{metric.capitalize()} is\", result.shape[0])\n",
      "/Users/anveshradharapu/Library/Caches/pypoetry/virtualenvs/mlengineerprep-fSSVlCLJ-py3.11/lib/python3.11/site-packages/sklearn/metrics/_classification.py:1706: UndefinedMetricWarning: Precision is ill-defined and being set to 0.0 in labels with no predicted samples. Use `zero_division` parameter to control this behavior.\n",
      "  _warn_prf(average, modifier, f\"{metric.capitalize()} is\", result.shape[0])\n",
      "/Users/anveshradharapu/Library/Caches/pypoetry/virtualenvs/mlengineerprep-fSSVlCLJ-py3.11/lib/python3.11/site-packages/sklearn/metrics/_classification.py:1706: UndefinedMetricWarning: Recall is ill-defined and being set to 0.0 in labels with no true samples. Use `zero_division` parameter to control this behavior.\n",
      "  _warn_prf(average, modifier, f\"{metric.capitalize()} is\", result.shape[0])\n",
      "/Users/anveshradharapu/Library/Caches/pypoetry/virtualenvs/mlengineerprep-fSSVlCLJ-py3.11/lib/python3.11/site-packages/sklearn/metrics/_classification.py:1706: UndefinedMetricWarning: F-score is ill-defined and being set to 0.0 in labels with no true nor predicted samples. Use `zero_division` parameter to control this behavior.\n",
      "  _warn_prf(average, modifier, f\"{metric.capitalize()} is\", result.shape[0])\n",
      "/Users/anveshradharapu/Library/Caches/pypoetry/virtualenvs/mlengineerprep-fSSVlCLJ-py3.11/lib/python3.11/site-packages/sklearn/metrics/_classification.py:1706: UndefinedMetricWarning: Precision is ill-defined and being set to 0.0 in labels with no predicted samples. Use `zero_division` parameter to control this behavior.\n",
      "  _warn_prf(average, modifier, f\"{metric.capitalize()} is\", result.shape[0])\n",
      "/Users/anveshradharapu/Library/Caches/pypoetry/virtualenvs/mlengineerprep-fSSVlCLJ-py3.11/lib/python3.11/site-packages/sklearn/metrics/_classification.py:1706: UndefinedMetricWarning: Recall is ill-defined and being set to 0.0 in labels with no true samples. Use `zero_division` parameter to control this behavior.\n",
      "  _warn_prf(average, modifier, f\"{metric.capitalize()} is\", result.shape[0])\n",
      "/Users/anveshradharapu/Library/Caches/pypoetry/virtualenvs/mlengineerprep-fSSVlCLJ-py3.11/lib/python3.11/site-packages/sklearn/metrics/_classification.py:1706: UndefinedMetricWarning: F-score is ill-defined and being set to 0.0 in labels with no true nor predicted samples. Use `zero_division` parameter to control this behavior.\n",
      "  _warn_prf(average, modifier, f\"{metric.capitalize()} is\", result.shape[0])\n"
     ]
    }
   ],
   "source": [
    "# Ensure true labels are 1D\n",
    "print(y_val_labels.shape)  # should be (N,)\n",
    "\n",
    "# Generate report\n",
    "report = classification_report(\n",
    "    y_val_labels,\n",
    "    y_val_preds,\n",
    "    labels=[0, 1, 2],  # Ensure all classes are accounted for\n",
    "    target_names=[\"High\", \"Medium\", \"Low\"]\n",
    ")\n",
    "\n",
    "print(report)\n",
    "with open('outputs/classification_report.txt', 'w') as f:\n",
    "    f.write(report)\n"
   ]
  },
  {
   "cell_type": "code",
   "execution_count": 18,
   "id": "7210a1b0",
   "metadata": {},
   "outputs": [
    {
     "data": {
      "text/plain": [
       "['models/traffic_congestion_classifier_model.pkl']"
      ]
     },
     "execution_count": 18,
     "metadata": {},
     "output_type": "execute_result"
    }
   ],
   "source": [
    "joblib.dump(model, 'models/traffic_congestion_classifier_model.pkl')"
   ]
  },
  {
   "cell_type": "code",
   "execution_count": 19,
   "id": "45ce8723",
   "metadata": {},
   "outputs": [],
   "source": [
    "shutil.rmtree(\"data/METR-LA\")\n",
    "# shutil.rmtree(\"data/PEMS-BAY\")"
   ]
  }
 ],
 "metadata": {
  "kernelspec": {
   "display_name": "mlengineerprep-fSSVlCLJ-py3.11",
   "language": "python",
   "name": "python3"
  },
  "language_info": {
   "codemirror_mode": {
    "name": "ipython",
    "version": 3
   },
   "file_extension": ".py",
   "mimetype": "text/x-python",
   "name": "python",
   "nbconvert_exporter": "python",
   "pygments_lexer": "ipython3",
   "version": "3.11.4"
  }
 },
 "nbformat": 4,
 "nbformat_minor": 5
}
