{
 "cells": [
  {
   "cell_type": "code",
   "execution_count": 1,
   "id": "264a4b1f",
   "metadata": {},
   "outputs": [],
   "source": [
    "import pandas as pd\n",
    "import numpy as np\n",
    "from sklearn.feature_extraction.text import TfidfVectorizer\n",
    "from sklearn.metrics.pairwise import cosine_similarity\n",
    "from surprise import Dataset, Reader, SVD\n",
    "from surprise.model_selection import train_test_split\n",
    "from surprise.accuracy import rmse"
   ]
  },
  {
   "cell_type": "code",
   "execution_count": 2,
   "id": "87e7f439",
   "metadata": {},
   "outputs": [
    {
     "name": "stderr",
     "output_type": "stream",
     "text": [
      "/var/folders/m_/1qnj5yc165zbgt967t2m1nhh0000gn/T/ipykernel_50715/4030069184.py:12: FutureWarning: Series.__getitem__ treating keys as positions is deprecated. In a future version, integer keys will always be treated as labels (consistent with DataFrame behavior). To access a value by position, use `ser.iloc[pos]`\n",
      "  movies['genres'] = movies[genre_cols].apply(lambda x: ' '.join([genre_cols[i] for i in range(len(x)) if x[i] == 1]), axis=1)\n"
     ]
    },
    {
     "data": {
      "text/plain": [
       "421    Aladdin and the King of Thieves (1996)\n",
       "101                    Aristocats, The (1970)\n",
       "403                          Pinocchio (1940)\n",
       "624            Sword in the Stone, The (1963)\n",
       "945             Fox and the Hound, The (1981)\n",
       "Name: title, dtype: object"
      ]
     },
     "execution_count": 2,
     "metadata": {},
     "output_type": "execute_result"
    }
   ],
   "source": [
    "# Load movies data (MovieLens 100k)\n",
    "movies = pd.read_csv('https://files.grouplens.org/datasets/movielens/ml-100k/u.item', sep='|', header=None, encoding='latin-1',\n",
    "                     names=[\"movie_id\", \"title\", \"release_date\", \"video_release_date\", \"IMDb_URL\",\n",
    "                            \"unknown\", \"Action\", \"Adventure\", \"Animation\", \"Children's\", \"Comedy\", \"Crime\",\n",
    "                            \"Documentary\", \"Drama\", \"Fantasy\", \"Film-Noir\", \"Horror\", \"Musical\", \"Mystery\",\n",
    "                            \"Romance\", \"Sci-Fi\", \"Thriller\", \"War\", \"Western\"])\n",
    "\n",
    "genre_cols = [\"Action\", \"Adventure\", \"Animation\", \"Children's\", \"Comedy\", \"Crime\", \"Documentary\",\n",
    "              \"Drama\", \"Fantasy\", \"Film-Noir\", \"Horror\", \"Musical\", \"Mystery\", \"Romance\", \"Sci-Fi\",\n",
    "              \"Thriller\", \"War\", \"Western\"]\n",
    "\n",
    "movies['genres'] = movies[genre_cols].apply(lambda x: ' '.join([genre_cols[i] for i in range(len(x)) if x[i] == 1]), axis=1)\n",
    "\n",
    "# TF-IDF on genres\n",
    "tfidf = TfidfVectorizer()\n",
    "tfidf_matrix = tfidf.fit_transform(movies['genres'])\n",
    "cos_sim = cosine_similarity(tfidf_matrix)\n",
    "\n",
    "# Recommend similar movies\n",
    "def recommend_movies(movie_title, top_n=5):\n",
    "    idx = movies[movies['title'].str.contains(movie_title, case=False, na=False)].index[0]\n",
    "    sim_scores = list(enumerate(cos_sim[idx]))\n",
    "    sim_scores = sorted(sim_scores, key=lambda x: x[1], reverse=True)[1:top_n+1]\n",
    "    movie_indices = [i[0] for i in sim_scores]\n",
    "    return movies['title'].iloc[movie_indices]\n",
    "\n",
    "# Example\n",
    "recommend_movies(\"Toy Story\")"
   ]
  },
  {
   "cell_type": "code",
   "execution_count": 3,
   "id": "0b528345",
   "metadata": {},
   "outputs": [
    {
     "name": "stdout",
     "output_type": "stream",
     "text": [
      "Collaborative Filtering RMSE:\n",
      "RMSE: 0.9432\n"
     ]
    },
    {
     "data": {
      "text/plain": [
       "0.9432041641468383"
      ]
     },
     "execution_count": 3,
     "metadata": {},
     "output_type": "execute_result"
    }
   ],
   "source": [
    "# Load MovieLens ratings data\n",
    "data = Dataset.load_builtin('ml-100k')\n",
    "trainset, testset = train_test_split(data, test_size=0.2)\n",
    "\n",
    "# SVD algorithm\n",
    "model = SVD()\n",
    "model.fit(trainset)\n",
    "predictions = model.test(testset)\n",
    "\n",
    "# Evaluation\n",
    "print(\"Collaborative Filtering RMSE:\")\n",
    "rmse(predictions)"
   ]
  }
 ],
 "metadata": {
  "kernelspec": {
   "display_name": "mlengineerprep-fSSVlCLJ-py3.11",
   "language": "python",
   "name": "python3"
  },
  "language_info": {
   "codemirror_mode": {
    "name": "ipython",
    "version": 3
   },
   "file_extension": ".py",
   "mimetype": "text/x-python",
   "name": "python",
   "nbconvert_exporter": "python",
   "pygments_lexer": "ipython3",
   "version": "3.11.4"
  }
 },
 "nbformat": 4,
 "nbformat_minor": 5
}
