{
 "cells": [
  {
   "cell_type": "code",
   "execution_count": 1,
   "id": "148838f2-0a9a-4453-ac21-dc598895a4aa",
   "metadata": {},
   "outputs": [],
   "source": [
    "%load_ext autoreload\n",
    "%autoreload 2"
   ]
  },
  {
   "cell_type": "code",
   "execution_count": 2,
   "id": "0d342bd8-085f-4a90-9804-2355c2392a67",
   "metadata": {},
   "outputs": [],
   "source": [
    "import pandas as pd\n",
    "import matplotlib.pyplot as plt\n",
    "import seaborn as sns\n",
    "import os\n",
    "import sys\n",
    "from sklearn.model_selection import train_test_split, cross_val_score\n",
    "from sklearn.compose import ColumnTransformer\n",
    "from sklearn.preprocessing import OneHotEncoder, StandardScaler\n",
    "from sklearn.pipeline import Pipeline\n",
    "from sklearn.tree import DecisionTreeClassifier\n",
    "from sklearn.ensemble import RandomForestClassifier\n",
    "from sklearn.preprocessing import LabelEncoder\n",
    "from xgboost import XGBClassifier\n",
    "from sklearn.metrics import classification_report, confusion_matrix"
   ]
  },
  {
   "cell_type": "code",
   "execution_count": 3,
   "id": "d6190628-fd42-4870-b8c3-33c1e97b005b",
   "metadata": {},
   "outputs": [],
   "source": [
    "os.chdir(\"..\")\n",
    "sys.path.append(\"src\")\n",
    "sys.path.append(\"data\")\n",
    "os.makedirs('outputs', exist_ok=True)"
   ]
  },
  {
   "cell_type": "code",
   "execution_count": 22,
   "id": "50d09fd9-ca87-4712-829b-6c44ae061c64",
   "metadata": {},
   "outputs": [],
   "source": [
    "from data_pipeline import (\n",
    "    load_dataset,\n",
    "    preprocess_dataframe,\n",
    "    vectorize_text,\n",
    "    split_data,\n",
    "    evaluate_model\n",
    ")\n",
    "from evaluation import (\n",
    "    evaluate_classification,\n",
    "    evaluate_roc_auc,\n",
    "    save_classification_reports\n",
    ")"
   ]
  },
  {
   "cell_type": "code",
   "execution_count": 5,
   "id": "b032235a-d5fe-4644-9c9a-2ae62eae600d",
   "metadata": {},
   "outputs": [],
   "source": [
    "# input_file = 'data/climate_stance_data.csv'\n",
    "# output_file = 'data/climate_stance_data_sample.csv'\n",
    "\n",
    "# sample_size = 50000 \n",
    "\n",
    "# # Read a random sample of rows without loading whole file (if it fits memory)\n",
    "# df = pd.read_csv(input_file, low_memory=False)\n",
    "# df_clean = df.dropna()\n",
    "# sample_df = df_clean.sample(n=sample_size, random_state=42)\n",
    "\n",
    "# sample_df.to_csv(output_file, index=False)\n",
    "\n",
    "# print(f\"Sampled {sample_size} rows saved to {output_file}\")"
   ]
  },
  {
   "cell_type": "code",
   "execution_count": 6,
   "id": "2d65c381-0dcd-43bf-804f-d4a13644c1f6",
   "metadata": {},
   "outputs": [
    {
     "data": {
      "text/html": [
       "<div>\n",
       "<style scoped>\n",
       "    .dataframe tbody tr th:only-of-type {\n",
       "        vertical-align: middle;\n",
       "    }\n",
       "\n",
       "    .dataframe tbody tr th {\n",
       "        vertical-align: top;\n",
       "    }\n",
       "\n",
       "    .dataframe thead th {\n",
       "        text-align: right;\n",
       "    }\n",
       "</style>\n",
       "<table border=\"1\" class=\"dataframe\">\n",
       "  <thead>\n",
       "    <tr style=\"text-align: right;\">\n",
       "      <th></th>\n",
       "      <th>created_at</th>\n",
       "      <th>id</th>\n",
       "      <th>lng</th>\n",
       "      <th>lat</th>\n",
       "      <th>topic</th>\n",
       "      <th>sentiment</th>\n",
       "      <th>stance</th>\n",
       "      <th>gender</th>\n",
       "      <th>temperature_avg</th>\n",
       "      <th>aggressiveness</th>\n",
       "    </tr>\n",
       "  </thead>\n",
       "  <tbody>\n",
       "    <tr>\n",
       "      <th>0</th>\n",
       "      <td>2019-05-17 23:23:42+00:00</td>\n",
       "      <td>1129527947356807168</td>\n",
       "      <td>-118.755997</td>\n",
       "      <td>36.701463</td>\n",
       "      <td>Politics</td>\n",
       "      <td>-0.420971</td>\n",
       "      <td>believer</td>\n",
       "      <td>female</td>\n",
       "      <td>-1.840842</td>\n",
       "      <td>aggressive</td>\n",
       "    </tr>\n",
       "    <tr>\n",
       "      <th>1</th>\n",
       "      <td>2018-12-05 20:45:43+00:00</td>\n",
       "      <td>1070418966567378944</td>\n",
       "      <td>37.617494</td>\n",
       "      <td>55.750446</td>\n",
       "      <td>Donald Trump versus Science</td>\n",
       "      <td>-0.151985</td>\n",
       "      <td>believer</td>\n",
       "      <td>male</td>\n",
       "      <td>-4.707745</td>\n",
       "      <td>not aggressive</td>\n",
       "    </tr>\n",
       "    <tr>\n",
       "      <th>2</th>\n",
       "      <td>2019-01-01 07:22:51+00:00</td>\n",
       "      <td>1080001389949042688</td>\n",
       "      <td>-74.006015</td>\n",
       "      <td>40.712728</td>\n",
       "      <td>Donald Trump versus Science</td>\n",
       "      <td>-0.386309</td>\n",
       "      <td>neutral</td>\n",
       "      <td>male</td>\n",
       "      <td>1.438618</td>\n",
       "      <td>not aggressive</td>\n",
       "    </tr>\n",
       "    <tr>\n",
       "      <th>3</th>\n",
       "      <td>2018-01-06 09:48:11+00:00</td>\n",
       "      <td>949578332747657216</td>\n",
       "      <td>-0.075530</td>\n",
       "      <td>53.565390</td>\n",
       "      <td>Weather Extremes</td>\n",
       "      <td>0.616958</td>\n",
       "      <td>neutral</td>\n",
       "      <td>male</td>\n",
       "      <td>-0.297181</td>\n",
       "      <td>not aggressive</td>\n",
       "    </tr>\n",
       "    <tr>\n",
       "      <th>4</th>\n",
       "      <td>2016-01-07 16:47:57+00:00</td>\n",
       "      <td>685140827002109952</td>\n",
       "      <td>-116.200886</td>\n",
       "      <td>43.616616</td>\n",
       "      <td>Undefined / One Word Hashtags</td>\n",
       "      <td>0.423028</td>\n",
       "      <td>believer</td>\n",
       "      <td>male</td>\n",
       "      <td>3.759840</td>\n",
       "      <td>aggressive</td>\n",
       "    </tr>\n",
       "  </tbody>\n",
       "</table>\n",
       "</div>"
      ],
      "text/plain": [
       "                  created_at                   id         lng        lat  \\\n",
       "0  2019-05-17 23:23:42+00:00  1129527947356807168 -118.755997  36.701463   \n",
       "1  2018-12-05 20:45:43+00:00  1070418966567378944   37.617494  55.750446   \n",
       "2  2019-01-01 07:22:51+00:00  1080001389949042688  -74.006015  40.712728   \n",
       "3  2018-01-06 09:48:11+00:00   949578332747657216   -0.075530  53.565390   \n",
       "4  2016-01-07 16:47:57+00:00   685140827002109952 -116.200886  43.616616   \n",
       "\n",
       "                           topic  sentiment    stance  gender  \\\n",
       "0                       Politics  -0.420971  believer  female   \n",
       "1    Donald Trump versus Science  -0.151985  believer    male   \n",
       "2    Donald Trump versus Science  -0.386309   neutral    male   \n",
       "3               Weather Extremes   0.616958   neutral    male   \n",
       "4  Undefined / One Word Hashtags   0.423028  believer    male   \n",
       "\n",
       "   temperature_avg  aggressiveness  \n",
       "0        -1.840842      aggressive  \n",
       "1        -4.707745  not aggressive  \n",
       "2         1.438618  not aggressive  \n",
       "3        -0.297181  not aggressive  \n",
       "4         3.759840      aggressive  "
      ]
     },
     "execution_count": 6,
     "metadata": {},
     "output_type": "execute_result"
    }
   ],
   "source": [
    "df = load_dataset(\"data/climate_stance_data_sample.csv\")  # Update path as needed\n",
    "df.head()"
   ]
  },
  {
   "cell_type": "code",
   "execution_count": 7,
   "id": "775c95b8-ebb1-4a8c-8e3c-f409693ea96a",
   "metadata": {},
   "outputs": [
    {
     "name": "stdout",
     "output_type": "stream",
     "text": [
      "<class 'pandas.core.frame.DataFrame'>\n",
      "RangeIndex: 50000 entries, 0 to 49999\n",
      "Data columns (total 10 columns):\n",
      " #   Column           Non-Null Count  Dtype  \n",
      "---  ------           --------------  -----  \n",
      " 0   created_at       50000 non-null  object \n",
      " 1   id               50000 non-null  int64  \n",
      " 2   lng              50000 non-null  float64\n",
      " 3   lat              50000 non-null  float64\n",
      " 4   topic            50000 non-null  object \n",
      " 5   sentiment        50000 non-null  float64\n",
      " 6   stance           50000 non-null  object \n",
      " 7   gender           50000 non-null  object \n",
      " 8   temperature_avg  50000 non-null  float64\n",
      " 9   aggressiveness   50000 non-null  object \n",
      "dtypes: float64(4), int64(1), object(5)\n",
      "memory usage: 3.8+ MB\n"
     ]
    }
   ],
   "source": [
    "df.info()"
   ]
  },
  {
   "cell_type": "code",
   "execution_count": 8,
   "id": "20347195-6215-4464-8a91-9818289dbe50",
   "metadata": {},
   "outputs": [],
   "source": [
    "X = df.drop(columns=[\"stance\", \"created_at\", \"id\"])\n",
    "y = df[\"stance\"]"
   ]
  },
  {
   "cell_type": "code",
   "execution_count": 9,
   "id": "343363c3-742c-4899-9553-30a5298e8a3c",
   "metadata": {},
   "outputs": [],
   "source": [
    "numeric_features = [\"sentiment\", \"temperature_avg\", \"lng\", \"lat\"]\n",
    "categorical_features = [\"topic\", \"gender\", \"aggressiveness\"]"
   ]
  },
  {
   "cell_type": "code",
   "execution_count": 10,
   "id": "c58d4265-df9e-434d-8be1-b8f30f7f6985",
   "metadata": {},
   "outputs": [],
   "source": [
    "numeric_transformer = StandardScaler()\n",
    "categorical_transformer = OneHotEncoder(handle_unknown=\"ignore\")"
   ]
  },
  {
   "cell_type": "code",
   "execution_count": 11,
   "id": "93df0c30-e70e-420c-86a9-f0447c19f7ef",
   "metadata": {},
   "outputs": [],
   "source": [
    "preprocessor = ColumnTransformer([\n",
    "    (\"num\", numeric_transformer, numeric_features),\n",
    "    (\"cat\", categorical_transformer, categorical_features),\n",
    "])"
   ]
  },
  {
   "cell_type": "code",
   "execution_count": 12,
   "id": "aaf81967-60c5-478b-82da-ccb81edfcb6b",
   "metadata": {},
   "outputs": [],
   "source": [
    "models = {\n",
    "    \"Decision Tree\": DecisionTreeClassifier(random_state=42),\n",
    "    \"Random Forest\": RandomForestClassifier(random_state=42),\n",
    "    \"XGBoost\": XGBClassifier(eval_metric=\"mlogloss\", random_state=42),\n",
    "}"
   ]
  },
  {
   "cell_type": "code",
   "execution_count": 13,
   "id": "fcb3966f-2c6f-461c-a14c-f9c7b83919ea",
   "metadata": {},
   "outputs": [],
   "source": [
    "le = LabelEncoder()\n",
    "y_encoded = le.fit_transform(y)"
   ]
  },
  {
   "cell_type": "code",
   "execution_count": 14,
   "id": "eacef41d-11c1-43e8-a40e-92cf4b957e56",
   "metadata": {},
   "outputs": [],
   "source": [
    "X_train, X_test, y_train, y_test = train_test_split(X, y, test_size=0.2, random_state=42)\n",
    "y_train_encoded = le.fit_transform(y_train)\n",
    "y_test_encoded = le.transform(y_test)\n",
    "# cv_scores = cross_val_score(pipe, X_train, y_train_encoded, cv=5, scoring=\"accuracy\")\n",
    "# print(f\"CV Accuracy: {cv_scores.mean():.4f} ± {cv_scores.std():.4f}\")"
   ]
  },
  {
   "cell_type": "code",
   "execution_count": 15,
   "id": "dcb2eca0-9617-4182-97f7-c6d2a4813522",
   "metadata": {},
   "outputs": [
    {
     "name": "stdout",
     "output_type": "stream",
     "text": [
      "\n",
      "Training and evaluating Decision Tree...\n",
      "Decision Tree CV Accuracy: 0.6556 ± 0.0053\n",
      "Decision Tree classification report:\n",
      "               precision    recall  f1-score   support\n",
      "\n",
      "    believer       0.80      0.79      0.79      7471\n",
      "      denier       0.21      0.21      0.21       732\n",
      "     neutral       0.30      0.31      0.31      1797\n",
      "\n",
      "    accuracy                           0.66     10000\n",
      "   macro avg       0.43      0.44      0.44     10000\n",
      "weighted avg       0.66      0.66      0.66     10000\n",
      "\n",
      "\n",
      "Training and evaluating Random Forest...\n",
      "Random Forest CV Accuracy: 0.7498 ± 0.0033\n",
      "Random Forest classification report:\n",
      "               precision    recall  f1-score   support\n",
      "\n",
      "    believer       0.78      0.95      0.86      7471\n",
      "      denier       0.34      0.07      0.12       732\n",
      "     neutral       0.49      0.21      0.29      1797\n",
      "\n",
      "    accuracy                           0.75     10000\n",
      "   macro avg       0.54      0.41      0.42     10000\n",
      "weighted avg       0.70      0.75      0.70     10000\n",
      "\n",
      "\n",
      "Training and evaluating XGBoost...\n",
      "XGBoost CV Accuracy: 0.7601 ± 0.0026\n",
      "XGBoost classification report:\n",
      "               precision    recall  f1-score   support\n",
      "\n",
      "    believer       0.78      0.97      0.86      7471\n",
      "      denier       0.44      0.05      0.09       732\n",
      "     neutral       0.58      0.20      0.29      1797\n",
      "\n",
      "    accuracy                           0.76     10000\n",
      "   macro avg       0.60      0.41      0.42     10000\n",
      "weighted avg       0.72      0.76      0.70     10000\n",
      "\n"
     ]
    }
   ],
   "source": [
    "results = {}\n",
    "\n",
    "for name, clf in models.items():\n",
    "    print(f\"\\nTraining and evaluating {name}...\")\n",
    "    pipe = Pipeline([(\"preprocessor\", preprocessor), (\"classifier\", clf)])\n",
    "    \n",
    "    # Cross-validation accuracy\n",
    "    cv_scores = cross_val_score(pipe, X_train, y_train_encoded, cv=5, scoring=\"accuracy\")\n",
    "    print(f\"{name} CV Accuracy: {cv_scores.mean():.4f} ± {cv_scores.std():.4f}\")\n",
    "    \n",
    "    # Train on full train set and predict test set\n",
    "    pipe.fit(X_train, y_train_encoded)\n",
    "    y_pred_encoded = pipe.predict(X_test)\n",
    "    y_pred = le.inverse_transform(y_pred_encoded)\n",
    "    \n",
    "    print(f\"{name} classification report:\\n\", classification_report(y_test, y_pred))\n",
    "    \n",
    "    # Store for confusion matrix plot\n",
    "    results[name] = (y_test, y_pred)"
   ]
  },
  {
   "cell_type": "code",
   "execution_count": 17,
   "id": "797a2673-b76b-4c65-9361-b10ba8b97959",
   "metadata": {},
   "outputs": [
    {
     "data": {
      "image/png": "[encoded data removed]",
      "text/plain": [
       "<Figure size 1800x500 with 6 Axes>"
      ]
     },
     "metadata": {},
     "output_type": "display_data"
    }
   ],
   "source": [
    "fig, axes = plt.subplots(1, 3, figsize=(18, 5))\n",
    "labels = sorted(y.unique())  # Ensure these match y_true/y_pred types\n",
    "\n",
    "for ax, (name, (y_true, y_pred)) in zip(axes, results.items()):\n",
    "    cm = confusion_matrix(y_true, y_pred, labels=labels)\n",
    "    sns.heatmap(cm, annot=True, fmt=\"d\", cmap=\"Blues\", ax=ax,\n",
    "                xticklabels=labels, yticklabels=labels)\n",
    "    ax.set_title(f\"{name} Confusion Matrix\")\n",
    "    ax.set_xlabel(\"Predicted\")\n",
    "    ax.set_ylabel(\"True\")\n",
    "\n",
    "plt.tight_layout()\n",
    "\n",
    "# Save only once, after all subplots are created\n",
    "fig.savefig(os.path.join('outputs', 'confusion_matrix.png'))\n",
    "\n",
    "plt.show()"
   ]
  },
  {
   "cell_type": "code",
   "execution_count": 24,
   "id": "252e5b3f-30ff-464b-90a7-1c4671a7a74a",
   "metadata": {},
   "outputs": [
    {
     "name": "stdout",
     "output_type": "stream",
     "text": [
      "{'accuracy': 0.762, 'precision': 0.597150133469654, 'recall': 0.40519071882370267, 'f1_score': 0.41568080309151156}\n",
      "ROC AUC: 0.7335\n",
      "              precision    recall  f1-score   support\n",
      "\n",
      "    believer       0.78      0.97      0.86      7471\n",
      "      denier       0.44      0.05      0.09       732\n",
      "     neutral       0.58      0.20      0.29      1797\n",
      "\n",
      "    accuracy                           0.76     10000\n",
      "   macro avg       0.60      0.41      0.42     10000\n",
      "weighted avg       0.72      0.76      0.70     10000\n",
      "\n"
     ]
    }
   ],
   "source": [
    "metrics = evaluate_classification(y_test, y_pred)\n",
    "print(metrics)\n",
    "\n",
    "auc = evaluate_roc_auc(y_test, pipe.predict_proba(X_test))\n",
    "print(f\"ROC AUC: {auc:.4f}\")\n",
    "\n",
    "save_classification_reports(y_test, y_pred, labels=[\"believer\", \"denier\", \"neutral\"])\n"
   ]
  }
 ],
 "metadata": {
  "kernelspec": {
   "display_name": "Python (tf-env)",
   "language": "python",
   "name": "tf-env"
  },
  "language_info": {
   "codemirror_mode": {
    "name": "ipython",
    "version": 3
   },
   "file_extension": ".py",
   "mimetype": "text/x-python",
   "name": "python",
   "nbconvert_exporter": "python",
   "pygments_lexer": "ipython3",
   "version": "3.11.4"
  }
 },
 "nbformat": 4,
 "nbformat_minor": 5
}
