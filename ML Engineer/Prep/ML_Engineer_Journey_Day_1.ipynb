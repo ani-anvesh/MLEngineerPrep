{
 "cells": [
  {
   "cell_type": "markdown",
   "metadata": {
    "colab_type": "text",
    "id": "view-in-github"
   },
   "source": [
    "<a href=\"https://colab.research.google.com/github/ani-anvesh/MLEngineerPrep/blob/main/ML_Engineer_Journey_Day_1.ipynb\" target=\"_parent\"><img src=\"https://colab.research.google.com/assets/colab-badge.svg\" alt=\"Open In Colab\"/></a>"
   ]
  },
  {
   "cell_type": "markdown",
   "metadata": {
    "id": "BV7n6mXDJlMQ"
   },
   "source": [
    "## What is ML in your own words\n",
    "\n",
    "The Ablity of a machine to predict the unknows with the help of historic data fed to it"
   ]
  },
  {
   "cell_type": "markdown",
   "metadata": {
    "id": "bqLP1tjyKC--"
   },
   "source": [
    "## 3 Types of ML with one example each\n",
    "\n",
    "1. Supervised Learning: predicting housing data\n",
    "2. unsupervised learning: predicting Brest cancer\n",
    "3. Reinforcement learning: self driving cars\n",
    "\n"
   ]
  },
  {
   "cell_type": "markdown",
   "metadata": {
    "id": "-Eqlfe0kMqPJ"
   },
   "source": [
    "## What is Model, data, training ?\n",
    "\n",
    "**Model**: A file that takes in inputs and gives out the prediction, it generally consits of an algorithm that learns as it gains ore data or experience\n",
    "\n",
    "**Data**: The structured or unstaructured data which have features that contains signals/ features that can help model to predict\n",
    "\n",
    "**Training**: the process of feeding the data using trail and error or reward based mechansims to make the model predictions more accurate"
   ]
  },
  {
   "cell_type": "markdown",
   "metadata": {
    "id": "1Dq9b688JbFz"
   },
   "source": [
    "# **DSA** **Block**"
   ]
  },
  {
   "cell_type": "code",
   "execution_count": 1,
   "metadata": {
    "id": "7gwuDoTJnMpC"
   },
   "outputs": [],
   "source": [
    "# Reverse a string\n",
    "\n",
    "def reverseString(self, s):\n",
    "        \"\"\"\n",
    "        :type s: List[str]\n",
    "        :rtype: None Do not return anything, modify s in-place instead.\n",
    "        \"\"\"\n",
    "\n",
    "        # s = s.reverse()\n",
    "        left, right = 0 , len(s) - 1\n",
    "        while left < right:\n",
    "            s[left], s[right] = s[right], s[left]\n",
    "            print(s)\n",
    "            left += 1\n",
    "            right -= 1\n"
   ]
  },
  {
   "cell_type": "code",
   "execution_count": null,
   "metadata": {
    "id": "z7jMDjhynRGE"
   },
   "outputs": [],
   "source": [
    "# Reverse a palindrome\n",
    "\n",
    "def isPalindrome(self, s):\n",
    "        \"\"\"\n",
    "        :type s: str\n",
    "        :rtype: bool\n",
    "        \"\"\"\n",
    "        if not s:\n",
    "            return True\n",
    "        s = s.replace(\" \", \"\")\n",
    "        ss = re.sub(r'[^a-zA-Z0-9]', '', s).lower()\n",
    "        l = len(ss)\n",
    "        i = 0\n",
    "\n",
    "\n",
    "        return ss == ss[::-1]\n"
   ]
  },
  {
   "cell_type": "code",
   "execution_count": null,
   "metadata": {
    "id": "5ZHVQduIJRCe"
   },
   "outputs": [],
   "source": [
    "# Number of common factors\n",
    "\n",
    "def commonFactors(self, a, b):\n",
    "        \"\"\"\n",
    "        :type a: int\n",
    "        :type b: int\n",
    "        :rtype: int\n",
    "        \"\"\"\n",
    "        sum = 0\n",
    "        for i in range(1,b+1):\n",
    "            if a % i == 0 and b % i == 0:\n",
    "                sum += 1\n",
    "        return sum"
   ]
  }
 ],
 "metadata": {
  "colab": {
   "authorship_tag": "ABX9TyNVprW24ybS+J1CTYYE0sFK",
   "include_colab_link": true,
   "provenance": []
  },
  "kernelspec": {
   "display_name": "Python 3 (ipykernel)",
   "language": "python",
   "name": "python3"
  },
  "language_info": {
   "codemirror_mode": {
    "name": "ipython",
    "version": 3
   },
   "file_extension": ".py",
   "mimetype": "text/x-python",
   "name": "python",
   "nbconvert_exporter": "python",
   "pygments_lexer": "ipython3",
   "version": "3.13.4"
  }
 },
 "nbformat": 4,
 "nbformat_minor": 4
}
