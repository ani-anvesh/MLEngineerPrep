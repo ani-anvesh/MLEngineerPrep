{
 "cells": [
  {
   "cell_type": "code",
   "execution_count": 4,
   "id": "d7aca3b9-240d-4e25-89da-fd20b872d2ae",
   "metadata": {},
   "outputs": [],
   "source": [
    "import numpy as np"
   ]
  },
  {
   "cell_type": "code",
   "execution_count": 5,
   "id": "31029f1f-f38d-4942-a2b6-887063803a89",
   "metadata": {},
   "outputs": [],
   "source": [
    "def sigmoid(x):\n",
    "    return 1 / (1 + np.exp(-x))"
   ]
  },
  {
   "cell_type": "code",
   "execution_count": 6,
   "id": "24ce35a8-0492-4366-9207-6a87fd40a9dd",
   "metadata": {},
   "outputs": [],
   "source": [
    "def sigmoid_derivative(output):\n",
    "    return output * (1 - output)"
   ]
  },
  {
   "cell_type": "code",
   "execution_count": 7,
   "id": "503e3a9d-cdc5-44d8-bd84-43170eb453ef",
   "metadata": {},
   "outputs": [],
   "source": [
    "def binary_cross_entropy(y_true, y_pred):\n",
    "    epsilon = 1e-9  # Avoid log(0)\n",
    "    return -np.mean(y_true * np.log(y_pred + epsilon) + (1 - y_true) * np.log(1 - y_pred + epsilon))"
   ]
  },
  {
   "cell_type": "code",
   "execution_count": 8,
   "id": "894c0943-680c-44f9-be11-e29f2cf7d631",
   "metadata": {},
   "outputs": [],
   "source": [
    "X = np.array([\n",
    "    [0, 0],\n",
    "    [0, 1],\n",
    "    [1, 0],\n",
    "    [1, 1]\n",
    "])"
   ]
  },
  {
   "cell_type": "code",
   "execution_count": 9,
   "id": "94124b23-e79e-4691-bfc1-9f889c4ac473",
   "metadata": {},
   "outputs": [],
   "source": [
    "# Labels for AND gate\n",
    "y = np.array([[0], [0], [0], [1]])\n",
    "\n",
    "# Initialize weights and bias\n",
    "np.random.seed(42)\n",
    "weights = np.random.randn(2, 1)\n",
    "bias = np.zeros((1,))\n",
    "\n",
    "# Training parameters\n",
    "learning_rate = 0.1\n",
    "epochs = 10000"
   ]
  },
  {
   "cell_type": "code",
   "execution_count": 10,
   "id": "c7544526-fdc4-4919-9011-7f1b9ec4fd8f",
   "metadata": {},
   "outputs": [
    {
     "name": "stdout",
     "output_type": "stream",
     "text": [
      "Epoch 0, Loss: 0.7054\n",
      "Epoch 1000, Loss: 0.3445\n",
      "Epoch 2000, Loss: 0.2552\n",
      "Epoch 3000, Loss: 0.2076\n",
      "Epoch 4000, Loss: 0.1772\n",
      "Epoch 5000, Loss: 0.1560\n",
      "Epoch 6000, Loss: 0.1402\n",
      "Epoch 7000, Loss: 0.1279\n",
      "Epoch 8000, Loss: 0.1182\n",
      "Epoch 9000, Loss: 0.1101\n"
     ]
    }
   ],
   "source": [
    "for epoch in range(epochs):\n",
    "    # Forward pass\n",
    "    z = np.dot(X, weights) + bias\n",
    "    predictions = sigmoid(z)\n",
    "\n",
    "    # Compute loss\n",
    "    loss = binary_cross_entropy(y, predictions)\n",
    "\n",
    "    # Backward pass (gradient computation)\n",
    "    dloss_dpred = predictions - y\n",
    "    dpred_dz = sigmoid_derivative(predictions)\n",
    "\n",
    "    dz = dloss_dpred * dpred_dz\n",
    "\n",
    "    dW = np.dot(X.T, dz) / X.shape[0]\n",
    "    db = np.mean(dz)\n",
    "\n",
    "    # Update weights and bias\n",
    "    weights -= learning_rate * dW\n",
    "    bias -= learning_rate * db\n",
    "\n",
    "    # Print loss every 1000 epochs\n",
    "    if epoch % 1000 == 0:\n",
    "        print(f\"Epoch {epoch}, Loss: {loss:.4f}\")"
   ]
  },
  {
   "cell_type": "code",
   "execution_count": 11,
   "id": "6481ea10-87b5-4a17-837c-a70562a66efd",
   "metadata": {},
   "outputs": [
    {
     "name": "stdout",
     "output_type": "stream",
     "text": [
      "\n",
      "Final predictions:\n",
      "[[0.  ]\n",
      " [0.12]\n",
      " [0.12]\n",
      " [0.86]]\n"
     ]
    }
   ],
   "source": [
    "final_preds = sigmoid(np.dot(X, weights) + bias)\n",
    "print(\"\\nFinal predictions:\")\n",
    "print(np.round(final_preds, 2))"
   ]
  }
 ],
 "metadata": {
  "kernelspec": {
   "display_name": "Python 3 (ipykernel)",
   "language": "python",
   "name": "python3"
  },
  "language_info": {
   "codemirror_mode": {
    "name": "ipython",
    "version": 3
   },
   "file_extension": ".py",
   "mimetype": "text/x-python",
   "name": "python",
   "nbconvert_exporter": "python",
   "pygments_lexer": "ipython3",
   "version": "3.13.4"
  }
 },
 "nbformat": 4,
 "nbformat_minor": 5
}
