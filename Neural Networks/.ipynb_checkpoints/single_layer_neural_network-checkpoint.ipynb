{
 "cells": [
  {
   "cell_type": "code",
   "execution_count": 12,
   "id": "d7aca3b9-240d-4e25-89da-fd20b872d2ae",
   "metadata": {},
   "outputs": [],
   "source": [
    "import numpy as np\n",
    "import matplotlib.pyplot as plt"
   ]
  },
  {
   "cell_type": "code",
   "execution_count": 2,
   "id": "31029f1f-f38d-4942-a2b6-887063803a89",
   "metadata": {},
   "outputs": [],
   "source": [
    "def sigmoid(x):\n",
    "    return 1 / (1 + np.exp(-x))"
   ]
  },
  {
   "cell_type": "code",
   "execution_count": 3,
   "id": "24ce35a8-0492-4366-9207-6a87fd40a9dd",
   "metadata": {},
   "outputs": [],
   "source": [
    "def sigmoid_derivative(output):\n",
    "    return output * (1 - output)"
   ]
  },
  {
   "cell_type": "code",
   "execution_count": 4,
   "id": "503e3a9d-cdc5-44d8-bd84-43170eb453ef",
   "metadata": {},
   "outputs": [],
   "source": [
    "def binary_cross_entropy(y_true, y_pred):\n",
    "    epsilon = 1e-9  # Avoid log(0)\n",
    "    return -np.mean(y_true * np.log(y_pred + epsilon) + (1 - y_true) * np.log(1 - y_pred + epsilon))"
   ]
  },
  {
   "cell_type": "code",
   "execution_count": 5,
   "id": "894c0943-680c-44f9-be11-e29f2cf7d631",
   "metadata": {},
   "outputs": [],
   "source": [
    "X = np.array([\n",
    "    [0, 0],\n",
    "    [0, 1],\n",
    "    [1, 0],\n",
    "    [1, 1]\n",
    "])"
   ]
  },
  {
   "cell_type": "code",
   "execution_count": 6,
   "id": "94124b23-e79e-4691-bfc1-9f889c4ac473",
   "metadata": {},
   "outputs": [],
   "source": [
    "# Labels for AND gate\n",
    "y = np.array([[0], [0], [0], [1]])\n",
    "\n",
    "# Initialize weights and bias\n",
    "np.random.seed(42)\n",
    "weights = np.random.randn(2, 1)\n",
    "bias = np.zeros((1,))\n",
    "\n",
    "# Training parameters\n",
    "learning_rate = 0.1\n",
    "epochs = 10000"
   ]
  },
  {
   "cell_type": "code",
   "execution_count": 7,
   "id": "c7544526-fdc4-4919-9011-7f1b9ec4fd8f",
   "metadata": {},
   "outputs": [
    {
     "name": "stdout",
     "output_type": "stream",
     "text": [
      "Epoch 0, Loss: 0.7054\n",
      "Epoch 1000, Loss: 0.3445\n",
      "Epoch 2000, Loss: 0.2552\n",
      "Epoch 3000, Loss: 0.2076\n",
      "Epoch 4000, Loss: 0.1772\n",
      "Epoch 5000, Loss: 0.1560\n",
      "Epoch 6000, Loss: 0.1402\n",
      "Epoch 7000, Loss: 0.1279\n",
      "Epoch 8000, Loss: 0.1182\n",
      "Epoch 9000, Loss: 0.1101\n"
     ]
    }
   ],
   "source": [
    "for epoch in range(epochs):\n",
    "    # Forward pass\n",
    "    z = np.dot(X, weights) + bias\n",
    "    predictions = sigmoid(z)\n",
    "\n",
    "    # Compute loss\n",
    "    loss = binary_cross_entropy(y, predictions)\n",
    "\n",
    "    # Backward pass (gradient computation)\n",
    "    dloss_dpred = predictions - y\n",
    "    dpred_dz = sigmoid_derivative(predictions)\n",
    "\n",
    "    dz = dloss_dpred * dpred_dz\n",
    "\n",
    "    dW = np.dot(X.T, dz) / X.shape[0]\n",
    "    db = np.mean(dz)\n",
    "\n",
    "    # Update weights and bias\n",
    "    weights -= learning_rate * dW\n",
    "    bias -= learning_rate * db\n",
    "\n",
    "    # Print loss every 1000 epochs\n",
    "    if epoch % 1000 == 0:\n",
    "        print(f\"Epoch {epoch}, Loss: {loss:.4f}\")"
   ]
  },
  {
   "cell_type": "code",
   "execution_count": 8,
   "id": "6481ea10-87b5-4a17-837c-a70562a66efd",
   "metadata": {},
   "outputs": [
    {
     "name": "stdout",
     "output_type": "stream",
     "text": [
      "\n",
      "Final predictions:\n",
      "[[0.  ]\n",
      " [0.12]\n",
      " [0.12]\n",
      " [0.86]]\n"
     ]
    }
   ],
   "source": [
    "final_preds = sigmoid(np.dot(X, weights) + bias)\n",
    "print(\"\\nFinal predictions:\")\n",
    "print(np.round(final_preds, 2))"
   ]
  },
  {
   "cell_type": "code",
   "execution_count": 9,
   "id": "7d6d27ca-01db-4f01-b479-1b55caee98c2",
   "metadata": {},
   "outputs": [],
   "source": [
    "def relu(x):\n",
    "    return np.maximum(0, x)\n",
    "\n",
    "def relu_derivative(x):\n",
    "    return (x > 0).astype(float)"
   ]
  },
  {
   "cell_type": "code",
   "execution_count": 10,
   "id": "271281af-7cd1-4dfd-9bf3-92cfdca66d2d",
   "metadata": {},
   "outputs": [],
   "source": [
    "# Manual Neural Network with 1 hidden layer (ReLU) and sigmoid output\n",
    "class NeuralNet:\n",
    "    def __init__(self, input_size, hidden_size, output_size):\n",
    "        self.W1 = np.random.randn(input_size, hidden_size) * 0.1\n",
    "        self.b1 = np.zeros((1, hidden_size))\n",
    "        self.W2 = np.random.randn(hidden_size, output_size) * 0.1\n",
    "        self.b2 = np.zeros((1, output_size))\n",
    "\n",
    "    def forward(self, X):\n",
    "        self.z1 = X @ self.W1 + self.b1\n",
    "        self.a1 = relu(self.z1)\n",
    "        self.z2 = self.a1 @ self.W2 + self.b2\n",
    "        self.a2 = sigmoid(self.z2)\n",
    "        return self.a2\n",
    "\n",
    "    def backward(self, X, y, output, lr=0.1):\n",
    "        m = y.shape[0]\n",
    "        dz2 = output - y\n",
    "        dW2 = self.a1.T @ dz2 / m\n",
    "        db2 = np.sum(dz2, axis=0, keepdims=True) / m\n",
    "\n",
    "        dz1 = (dz2 @ self.W2.T) * relu_derivative(self.z1)\n",
    "        dW1 = X.T @ dz1 / m\n",
    "        db1 = np.sum(dz1, axis=0, keepdims=True) / m\n",
    "\n",
    "        self.W1 -= lr * dW1\n",
    "        self.b1 -= lr * db1\n",
    "        self.W2 -= lr * dW2\n",
    "        self.b2 -= lr * db2\n",
    "\n",
    "    def train(self, X, y, epochs=1000, lr=0.1):\n",
    "        loss_history = []\n",
    "        for i in range(epochs):\n",
    "            output = self.forward(X)\n",
    "            loss = binary_cross_entropy(y, output)\n",
    "            self.backward(X, y, output, lr)\n",
    "            loss_history.append(loss)\n",
    "        return loss_history"
   ]
  },
  {
   "cell_type": "code",
   "execution_count": 13,
   "id": "38200544-8ffd-423a-a3c9-ea970e75caf2",
   "metadata": {},
   "outputs": [
    {
     "data": {
      "image/png": "[encoded data removed]",
      "text/plain": [
       "<Figure size 640x480 with 1 Axes>"
      ]
     },
     "metadata": {},
     "output_type": "display_data"
    }
   ],
   "source": [
    "# Training the network on XOR\n",
    "y = np.array([[0], [1], [1], [0]])\n",
    "\n",
    "nn = NeuralNet(input_size=2, hidden_size=4, output_size=1)\n",
    "losses = nn.train(X, y, epochs=5000, lr=0.1)\n",
    "\n",
    "plt.plot(losses)\n",
    "plt.title(\"Training Loss\")\n",
    "plt.xlabel(\"Epoch\")\n",
    "plt.ylabel(\"Loss\")\n",
    "plt.show()"
   ]
  },
  {
   "cell_type": "code",
   "execution_count": 14,
   "id": "ac8feb64-4a28-435e-bf37-0818b4b0d2ab",
   "metadata": {},
   "outputs": [
    {
     "name": "stdout",
     "output_type": "stream",
     "text": [
      "Predictions: [0.01 1.   1.   0.01]\n",
      "True Labels: [0 1 1 0]\n"
     ]
    }
   ],
   "source": [
    "# Predictions\n",
    "preds = nn.forward(X)\n",
    "print(\"Predictions:\", np.round(preds.flatten(), 2))\n",
    "print(\"True Labels:\", y.flatten())\n"
   ]
  },
  {
   "cell_type": "code",
   "execution_count": 15,
   "id": "54b0bc4d-ad2b-4ffc-922d-b4643513e973",
   "metadata": {},
   "outputs": [
    {
     "data": {
      "image/png": "[encoded data removed]",
      "text/plain": [
       "<Figure size 600x400 with 1 Axes>"
      ]
     },
     "metadata": {},
     "output_type": "display_data"
    }
   ],
   "source": [
    "# Visualize Hidden Layer Activations\n",
    "def plot_hidden_activations(model, X):\n",
    "    activations = model.a1\n",
    "    plt.figure(figsize=(6, 4))\n",
    "    for i, point in enumerate(X):\n",
    "        plt.scatter(activations[i, 0], activations[i, 1], label=f\"XOR {point}\")\n",
    "    plt.xlabel(\"Activation 1\")\n",
    "    plt.ylabel(\"Activation 2\")\n",
    "    plt.title(\"Hidden Layer Activations\")\n",
    "    plt.legend()\n",
    "    plt.grid(True)\n",
    "    plt.show()\n",
    "\n",
    "plot_hidden_activations(nn, X)"
   ]
  },
  {
   "cell_type": "code",
   "execution_count": null,
   "id": "df9672d4-00b9-4603-8653-f2c1bef6f7d7",
   "metadata": {},
   "outputs": [],
   "source": []
  }
 ],
 "metadata": {
  "kernelspec": {
   "display_name": "Python 3 (ipykernel)",
   "language": "python",
   "name": "python3"
  },
  "language_info": {
   "codemirror_mode": {
    "name": "ipython",
    "version": 3
   },
   "file_extension": ".py",
   "mimetype": "text/x-python",
   "name": "python",
   "nbconvert_exporter": "python",
   "pygments_lexer": "ipython3",
   "version": "3.13.4"
  }
 },
 "nbformat": 4,
 "nbformat_minor": 5
}
