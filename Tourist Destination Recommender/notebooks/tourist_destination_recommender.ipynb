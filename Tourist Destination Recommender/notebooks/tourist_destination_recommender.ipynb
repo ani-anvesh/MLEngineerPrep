{
 "cells": [
  {
   "cell_type": "code",
   "execution_count": 1,
   "id": "50a899bb-7f79-47e2-b524-6c3c534b09d6",
   "metadata": {},
   "outputs": [],
   "source": [
    "%reload_ext autoreload\n",
    "%autoreload 2"
   ]
  },
  {
   "cell_type": "code",
   "execution_count": 2,
   "id": "fd3cc377-2255-432e-8da5-3700092c0025",
   "metadata": {},
   "outputs": [],
   "source": [
    "import os\n",
    "import sys"
   ]
  },
  {
   "cell_type": "code",
   "execution_count": 3,
   "id": "9ccd01e4-f7e0-4e89-aca7-fa93b21fed44",
   "metadata": {},
   "outputs": [],
   "source": [
    "os.chdir(\"..\")\n",
    "sys.path.append(\"src\")\n",
    "sys.path.append(\"data\")\n",
    "os.environ[\"TF_CPP_MIN_LOG_LEVEL\"] = \"2\""
   ]
  },
  {
   "cell_type": "code",
   "execution_count": 4,
   "id": "bbdec444-9433-47fb-b47f-005bbe53e5c6",
   "metadata": {},
   "outputs": [],
   "source": [
    "from data_pipeline import load_data, clean_category, load_and_clean_data, add_dummy_popularity, apply_custom_scoring, compute_tfidf_matrix, recommend_destinations, plot_recommendations\n",
    "from evaluation import get_top_recommendations\n",
    "from sklearn.feature_extraction.text import TfidfVectorizer"
   ]
  },
  {
   "cell_type": "code",
   "execution_count": 5,
   "id": "cf0b0105-c709-4c16-847b-9233efe5930a",
   "metadata": {},
   "outputs": [],
   "source": [
    "df = load_data('data/travel_destinations.csv')"
   ]
  },
  {
   "cell_type": "code",
   "execution_count": 6,
   "id": "599ed494-f923-45da-b218-cbdb5ae6788d",
   "metadata": {},
   "outputs": [
    {
     "data": {
      "text/html": [
       "<div>\n",
       "<style scoped>\n",
       "    .dataframe tbody tr th:only-of-type {\n",
       "        vertical-align: middle;\n",
       "    }\n",
       "\n",
       "    .dataframe tbody tr th {\n",
       "        vertical-align: top;\n",
       "    }\n",
       "\n",
       "    .dataframe thead th {\n",
       "        text-align: right;\n",
       "    }\n",
       "</style>\n",
       "<table border=\"1\" class=\"dataframe\">\n",
       "  <thead>\n",
       "    <tr style=\"text-align: right;\">\n",
       "      <th></th>\n",
       "      <th>City</th>\n",
       "      <th>Country</th>\n",
       "      <th>Category</th>\n",
       "      <th>Best_Time_to_Travel</th>\n",
       "    </tr>\n",
       "  </thead>\n",
       "  <tbody>\n",
       "    <tr>\n",
       "      <th>0</th>\n",
       "      <td>London</td>\n",
       "      <td>United Kingdom</td>\n",
       "      <td>history, culture, museums, theatre, shopping, ...</td>\n",
       "      <td>Apr, May, Jun, Sep, Oct</td>\n",
       "    </tr>\n",
       "    <tr>\n",
       "      <th>1</th>\n",
       "      <td>Paris</td>\n",
       "      <td>France</td>\n",
       "      <td>art, museums, landmarks, culture, history, foo...</td>\n",
       "      <td>Apr, May, Jun, Sep, Oct</td>\n",
       "    </tr>\n",
       "    <tr>\n",
       "      <th>2</th>\n",
       "      <td>Rome</td>\n",
       "      <td>Italy</td>\n",
       "      <td>history, ancient ruins, culture, art, food, re...</td>\n",
       "      <td>Apr, May, Jun, Sep, Oct</td>\n",
       "    </tr>\n",
       "    <tr>\n",
       "      <th>3</th>\n",
       "      <td>Berlin</td>\n",
       "      <td>Germany</td>\n",
       "      <td>history, culture, nightlife, art, museums, music</td>\n",
       "      <td>May, Jun, Jul, Aug, Sep</td>\n",
       "    </tr>\n",
       "    <tr>\n",
       "      <th>4</th>\n",
       "      <td>Madrid</td>\n",
       "      <td>Spain</td>\n",
       "      <td>art, museums, nightlife, food, culture, histor...</td>\n",
       "      <td>Apr, May, Jun, Sep, Oct</td>\n",
       "    </tr>\n",
       "  </tbody>\n",
       "</table>\n",
       "</div>"
      ],
      "text/plain": [
       "     City         Country                                           Category  \\\n",
       "0  London  United Kingdom  history, culture, museums, theatre, shopping, ...   \n",
       "1   Paris          France  art, museums, landmarks, culture, history, foo...   \n",
       "2    Rome           Italy  history, ancient ruins, culture, art, food, re...   \n",
       "3  Berlin         Germany   history, culture, nightlife, art, museums, music   \n",
       "4  Madrid           Spain  art, museums, nightlife, food, culture, histor...   \n",
       "\n",
       "       Best_Time_to_Travel  \n",
       "0  Apr, May, Jun, Sep, Oct  \n",
       "1  Apr, May, Jun, Sep, Oct  \n",
       "2  Apr, May, Jun, Sep, Oct  \n",
       "3  May, Jun, Jul, Aug, Sep  \n",
       "4  Apr, May, Jun, Sep, Oct  "
      ]
     },
     "execution_count": 6,
     "metadata": {},
     "output_type": "execute_result"
    }
   ],
   "source": [
    "df.head()"
   ]
  },
  {
   "cell_type": "code",
   "execution_count": 7,
   "id": "49cbc23f-d048-403f-b31c-1e42d7857e12",
   "metadata": {},
   "outputs": [
    {
     "name": "stdout",
     "output_type": "stream",
     "text": [
      "<class 'pandas.core.frame.DataFrame'>\n",
      "RangeIndex: 111 entries, 0 to 110\n",
      "Data columns (total 4 columns):\n",
      " #   Column               Non-Null Count  Dtype \n",
      "---  ------               --------------  ----- \n",
      " 0   City                 111 non-null    object\n",
      " 1   Country              111 non-null    object\n",
      " 2   Category             111 non-null    object\n",
      " 3   Best_Time_to_Travel  111 non-null    object\n",
      "dtypes: object(4)\n",
      "memory usage: 3.6+ KB\n"
     ]
    }
   ],
   "source": [
    "df.info()"
   ]
  },
  {
   "cell_type": "code",
   "execution_count": 8,
   "id": "4c063dcd-1175-485d-82bf-ed5138576a11",
   "metadata": {},
   "outputs": [],
   "source": [
    "df['Category'] = df['Category'].apply(clean_category)"
   ]
  },
  {
   "cell_type": "code",
   "execution_count": 9,
   "id": "b23f226d-89a1-4a1f-a85b-f42e75efb1a4",
   "metadata": {},
   "outputs": [],
   "source": [
    "df = load_and_clean_data(df)"
   ]
  },
  {
   "cell_type": "code",
   "execution_count": 10,
   "id": "29202f80-4dd2-430c-bab2-1b970945ac51",
   "metadata": {},
   "outputs": [],
   "source": [
    "df = add_dummy_popularity(df)"
   ]
  },
  {
   "cell_type": "code",
   "execution_count": 11,
   "id": "23c824e7-60c4-4197-b775-19bf038a8232",
   "metadata": {},
   "outputs": [],
   "source": [
    "tfidf_matrix, tfidf = compute_tfidf_matrix(df)"
   ]
  },
  {
   "cell_type": "code",
   "execution_count": 12,
   "id": "163e44af-b046-43a6-afdd-f5cc1e3d0c3c",
   "metadata": {},
   "outputs": [],
   "source": [
    "user_input = \"culture, museums, history\"\n",
    "recommendations = recommend_destinations(user_input, tfidf_matrix, tfidf, df)"
   ]
  },
  {
   "cell_type": "code",
   "execution_count": 13,
   "id": "82241126-d24b-4489-9b3a-66cdfab739b9",
   "metadata": {},
   "outputs": [],
   "source": [
    "scored = apply_custom_scoring(recommendations, {'similarity': 0.8, 'popularity': 0.2})"
   ]
  },
  {
   "cell_type": "code",
   "execution_count": 14,
   "id": "d4b827c1-ee8a-47cd-acda-31ef9ebcbfaa",
   "metadata": {},
   "outputs": [
    {
     "name": "stdout",
     "output_type": "stream",
     "text": [
      "         City      Country  similarity_score  final_score\n",
      "3      Berlin      Germany          0.576578     0.655808\n",
      "4      Madrid        Spain          0.568869     0.647823\n",
      "6   Amsterdam  Netherlands          0.476853     0.570573\n",
      "1       Paris       France          0.409475     0.525762\n",
      "14  Stockholm       Sweden          0.401297     0.495583\n"
     ]
    }
   ],
   "source": [
    "print(scored[['City', 'Country', 'similarity_score', 'final_score']].head())"
   ]
  },
  {
   "cell_type": "code",
   "execution_count": 15,
   "id": "faf4b84f-caf5-4ba0-a0b2-0a59978dacc7",
   "metadata": {},
   "outputs": [
    {
     "name": "stdout",
     "output_type": "stream",
     "text": [
      "         City      Country  similarity_score\n",
      "3      Berlin      Germany          0.576578\n",
      "4      Madrid        Spain          0.568869\n",
      "6   Amsterdam  Netherlands          0.476853\n",
      "1       Paris       France          0.409475\n",
      "14  Stockholm       Sweden          0.401297\n"
     ]
    }
   ],
   "source": [
    "# Step 1: User input\n",
    "user_input = \"culture, museums, history\"\n",
    "\n",
    "# Step 2: Transform user input to vector\n",
    "user_vector = tfidf.transform([user_input])\n",
    "\n",
    "# Step 3: Get top recommendations using cosine similarity directly\n",
    "top_indices, top_scores = get_top_recommendations(tfidf_matrix, user_vector, top_n=5)\n",
    "\n",
    "# Step 4: Fetch and display top destinations\n",
    "top_destinations = df.iloc[top_indices].copy()\n",
    "top_destinations['similarity_score'] = top_scores\n",
    "\n",
    "# Optional: Apply scoring, popularity, etc. here\n",
    "print(top_destinations[['City', 'Country', 'similarity_score']])\n"
   ]
  },
  {
   "cell_type": "code",
   "execution_count": 16,
   "id": "1f0d61a3-f97d-4fd9-aceb-78356bf1a4d6",
   "metadata": {},
   "outputs": [
    {
     "data": {
      "image/png": "[encoded data removed]",
      "text/plain": [
       "<Figure size 1000x600 with 1 Axes>"
      ]
     },
     "metadata": {},
     "output_type": "display_data"
    }
   ],
   "source": [
    "plot_recommendations(scored)"
   ]
  }
 ],
 "metadata": {
  "kernelspec": {
   "display_name": "Python (tf-env)",
   "language": "python",
   "name": "tf-env"
  },
  "language_info": {
   "codemirror_mode": {
    "name": "ipython",
    "version": 3
   },
   "file_extension": ".py",
   "mimetype": "text/x-python",
   "name": "python",
   "nbconvert_exporter": "python",
   "pygments_lexer": "ipython3",
   "version": "3.11.4"
  }
 },
 "nbformat": 4,
 "nbformat_minor": 5
}
