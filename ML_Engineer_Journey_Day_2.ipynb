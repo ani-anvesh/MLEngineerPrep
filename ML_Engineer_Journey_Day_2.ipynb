{
  "nbformat": 4,
  "nbformat_minor": 0,
  "metadata": {
    "colab": {
      "provenance": [],
      "authorship_tag": "ABX9TyP5XfQ+WVYe0LaM2WpMmf6p",
      "include_colab_link": true
    },
    "kernelspec": {
      "name": "python3",
      "display_name": "Python 3"
    },
    "language_info": {
      "name": "python"
    }
  },
  "cells": [
    {
      "cell_type": "markdown",
      "metadata": {
        "id": "view-in-github",
        "colab_type": "text"
      },
      "source": [
        "<a href=\"https://colab.research.google.com/github/ani-anvesh/MLEngineerPrep/blob/main/ML_Engineer_Journey_Day_2.ipynb\" target=\"_parent\"><img src=\"https://colab.research.google.com/assets/colab-badge.svg\" alt=\"Open In Colab\"/></a>"
      ]
    },
    {
      "cell_type": "markdown",
      "source": [
        "# **ML Block**\n",
        "\n",
        "Train Linear Regression on Boston Housing Dataset"
      ],
      "metadata": {
        "id": "UdjGc-pnTNhn"
      }
    },
    {
      "cell_type": "code",
      "source": [
        "import numpy as np\n",
        "from sklearn.datasets import fetch_california_housing\n",
        "from sklearn.metrics import mean_squared_error\n",
        "from sklearn.model_selection import train_test_split\n",
        "\n",
        "boston = fetch_california_housing()\n",
        "X = boston.data      # Features\n",
        "y = boston.target    # Target values (house prices)\n",
        "\n",
        "# 2. Normalize features (optional but helps with numerical stability)\n",
        "X = (X - X.mean(axis=0)) / X.std(axis=0)\n",
        "\n",
        "# 3. Add bias term (column of ones) to X\n",
        "m = X.shape[0]\n",
        "print(m)\n",
        "\n",
        "X_b = np.c_[np.ones((m, 1)), X]  # shape = (m, n+1)\n",
        "\n",
        "# 4. Train-test split\n",
        "X_train, X_test, y_train, y_test = train_test_split(X_b, y, test_size=0.2, random_state=42)\n",
        "\n",
        "# 5. Implement Normal Equation: θ = (X^T X)^(-1) X^T y\n",
        "theta_best = np.linalg.inv(X_train.T.dot(X_train)).dot(X_train.T).dot(y_train)\n",
        "\n",
        "# 6. Make predictions on test set\n",
        "y_pred = X_test.dot(theta_best)\n",
        "\n",
        "# 7. Evaluate\n",
        "mse = mean_squared_error(y_test, y_pred)\n",
        "print(\"Mean Squared Error:\", mse)"
      ],
      "metadata": {
        "colab": {
          "base_uri": "https://localhost:8080/"
        },
        "id": "TlU_TEnWTyLS",
        "outputId": "e56b2d15-cde5-4f2e-ce1c-d07b2011f070"
      },
      "execution_count": 2,
      "outputs": [
        {
          "output_type": "stream",
          "name": "stdout",
          "text": [
            "20640\n",
            "Mean Squared Error: 0.5558915986952444\n"
          ]
        }
      ]
    },
    {
      "cell_type": "markdown",
      "source": [
        "# **DSA BLOCK**"
      ],
      "metadata": {
        "id": "UpUvRSvO_9UL"
      }
    },
    {
      "cell_type": "code",
      "execution_count": null,
      "metadata": {
        "id": "bJ3scZmc_dN9"
      },
      "outputs": [],
      "source": [
        "# Move Zeros\n",
        "\n",
        "\n",
        "def moveZeroes(self, nums):\n",
        "        \"\"\"\n",
        "        :type nums: List[int]\n",
        "        :rtype: None Do not return anything, modify nums in-place instead.\n",
        "        \"\"\"\n",
        "        zeros=[]\n",
        "        numbers=[]\n",
        "        for i in range(0,len(nums)):\n",
        "            if nums[i] == 0:\n",
        "                zeros.append(nums[i])\n",
        "            else:\n",
        "                numbers.append(nums[i])\n",
        "        del nums[:]\n",
        "        nums.extend(numbers + zeros)\n",
        "\n",
        "\n",
        "def moveZeroes(self, nums):\n",
        "        \"\"\"\n",
        "        :type nums: List[int]\n",
        "        :rtype: None Do not return anything, modify nums in-place instead.\n",
        "        \"\"\"\n",
        "\n",
        "        nonZeroIndex=0\n",
        "        for i in range(0,len(nums)):\n",
        "            if nums[i] != 0:\n",
        "                nums[nonZeroIndex] = nums[i]\n",
        "                nonZeroIndex += 1\n",
        "\n",
        "        for i in range(nonZeroIndex,len(nums)):\n",
        "            nums[i] = 0"
      ]
    },
    {
      "cell_type": "code",
      "source": [
        "# Find the best day to sell stocks\n",
        "\n",
        "def maxProfit(self, prices):\n",
        "        \"\"\"\n",
        "        :type prices: List[int]\n",
        "        :rtype: int\n",
        "        \"\"\"\n",
        "\n",
        "        buy = min(prices)\n",
        "        del prices[:prices.index(buy)]\n",
        "        sell = max(prices)\n",
        "\n",
        "        return sell-buy\n",
        "\n",
        "\n",
        "def maxProfit(self, prices):\n",
        "        \"\"\"\n",
        "        :type prices: List[int]\n",
        "        :rtype: int\n",
        "        \"\"\"\n",
        "\n",
        "        min_price = float('inf')\n",
        "        max_profit = 0\n",
        "\n",
        "        for i in prices:\n",
        "            if i < min_price:\n",
        "                min_price = i\n",
        "            else:\n",
        "                profit = i - min_price\n",
        "                max_profit = max(max_profit, profit)\n",
        "\n",
        "\n",
        "        return max_profit"
      ],
      "metadata": {
        "id": "vkOfuW-HMJ7w"
      },
      "execution_count": null,
      "outputs": []
    }
  ]
}