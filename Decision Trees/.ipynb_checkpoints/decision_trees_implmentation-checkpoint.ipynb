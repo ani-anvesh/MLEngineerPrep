{
 "cells": [
  {
   "cell_type": "code",
   "execution_count": 1,
   "id": "582bf704-697a-42fe-b7d9-5983a4b5e506",
   "metadata": {},
   "outputs": [
    {
     "name": "stdout",
     "output_type": "stream",
     "text": [
      "3.0.2\n"
     ]
    }
   ],
   "source": [
    "import xgboost\n",
    "print(xgboost.__version__)"
   ]
  },
  {
   "cell_type": "code",
   "execution_count": 2,
   "id": "5868fce5-cee4-44aa-a660-a30b0a30fa72",
   "metadata": {},
   "outputs": [],
   "source": [
    "from sklearn.datasets import fetch_20newsgroups\n",
    "from sklearn.model_selection import train_test_split\n",
    "from sklearn.pipeline import Pipeline\n",
    "from sklearn.feature_extraction.text import TfidfVectorizer\n",
    "from sklearn.tree import DecisionTreeClassifier\n",
    "from sklearn.ensemble import RandomForestClassifier\n",
    "from sklearn.model_selection import cross_val_score, GridSearchCV\n",
    "from xgboost import XGBClassifier\n",
    "import numpy as np"
   ]
  },
  {
   "cell_type": "code",
   "execution_count": 3,
   "id": "0b98c76b-76fe-4923-8bcf-cc8213c540e9",
   "metadata": {},
   "outputs": [],
   "source": [
    "categories = ['rec.sport.baseball', 'sci.med']  # Binary classification\n",
    "data = fetch_20newsgroups(subset='train', categories=categories, remove=('headers', 'footers', 'quotes'))\n",
    "\n",
    "X = data.data  # Text\n",
    "y = data.target  # Labels: 0 or 1\n",
    "\n",
    "X_train, X_test, y_train, y_test = train_test_split(X, y, test_size=0.2, random_state=42)\n"
   ]
  },
  {
   "cell_type": "code",
   "execution_count": 4,
   "id": "aa651e1c-5c7b-4678-ae59-a4a385eb218d",
   "metadata": {},
   "outputs": [],
   "source": [
    "dt_pipeline = Pipeline([\n",
    "    ('tfidf', TfidfVectorizer()),  # Step 1: text to TF-IDF features\n",
    "    ('clf', DecisionTreeClassifier(random_state=42))  # Step 2: Decision Tree classifier\n",
    "])\n"
   ]
  },
  {
   "cell_type": "code",
   "execution_count": 5,
   "id": "dbd93f83-09dc-4c6b-b342-881e2628d027",
   "metadata": {},
   "outputs": [],
   "source": [
    "rf_pipeline = Pipeline([\n",
    "    ('tfidf', TfidfVectorizer()),\n",
    "    ('clf', RandomForestClassifier(n_estimators=100, random_state=42))\n",
    "])\n"
   ]
  },
  {
   "cell_type": "code",
   "execution_count": 6,
   "id": "023ca348-1a40-4560-b99c-21963ca17d0e",
   "metadata": {},
   "outputs": [
    {
     "name": "stdout",
     "output_type": "stream",
     "text": [
      "Decision Tree Accuracy: 0.7626674014880133\n",
      "Random Forest Accuracy: 0.8802810691650592\n"
     ]
    }
   ],
   "source": [
    "dt_scores = cross_val_score(dt_pipeline, X_train, y_train, cv=5, scoring='accuracy')\n",
    "rf_scores = cross_val_score(rf_pipeline, X_train, y_train, cv=5, scoring='accuracy')\n",
    "\n",
    "print(\"Decision Tree Accuracy:\", np.mean(dt_scores))\n",
    "print(\"Random Forest Accuracy:\", np.mean(rf_scores))\n"
   ]
  },
  {
   "cell_type": "code",
   "execution_count": 8,
   "id": "24460e9e-baa5-47a2-a61d-f219722574dd",
   "metadata": {},
   "outputs": [
    {
     "name": "stdout",
     "output_type": "stream",
     "text": [
      "Fitting 5 folds for each of 8 candidates, totalling 40 fits\n",
      "Best Parameters: {'clf__learning_rate': 0.3, 'clf__max_depth': 5, 'clf__n_estimators': 50}\n",
      "Best Cross-Validated Accuracy: 0.8760925874896666\n"
     ]
    }
   ],
   "source": [
    "xgb_pipeline = Pipeline([\n",
    "    ('tfidf', TfidfVectorizer()),\n",
    "    ('clf', XGBClassifier(eval_metric='logloss', random_state=42))\n",
    "])\n",
    "\n",
    "# Grid of hyperparameters to tune\n",
    "param_grid = {\n",
    "    'clf__n_estimators': [50, 100],\n",
    "    'clf__max_depth': [3, 5],\n",
    "    'clf__learning_rate': [0.1, 0.3]\n",
    "}\n",
    "\n",
    "grid = GridSearchCV(xgb_pipeline, param_grid, cv=5, scoring='accuracy', verbose=1)\n",
    "grid.fit(X_train, y_train)\n",
    "\n",
    "print(\"Best Parameters:\", grid.best_params_)\n",
    "print(\"Best Cross-Validated Accuracy:\", grid.best_score_)\n"
   ]
  }
 ],
 "metadata": {
  "kernelspec": {
   "display_name": "Python (tf-env)",
   "language": "python",
   "name": "tf-env"
  },
  "language_info": {
   "codemirror_mode": {
    "name": "ipython",
    "version": 3
   },
   "file_extension": ".py",
   "mimetype": "text/x-python",
   "name": "python",
   "nbconvert_exporter": "python",
   "pygments_lexer": "ipython3",
   "version": "3.11.4"
  }
 },
 "nbformat": 4,
 "nbformat_minor": 5
}
